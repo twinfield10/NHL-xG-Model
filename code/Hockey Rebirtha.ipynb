{
 "cells": [
  {
   "cell_type": "code",
   "execution_count": 5,
   "metadata": {},
   "outputs": [],
   "source": [
    "# Pandas\n",
    "import pandas as pd\n",
    "pd.set_option('display.max_columns', None)\n",
    "pd.set_option('display.max_rows', None)\n",
    "import numpy as np\n",
    "\n",
    "# Polars (Arrow)\n",
    "from pyarrow.dataset import dataset\n",
    "import polars as pl\n",
    "pl.Config.set_tbl_rows(n=-1)\n",
    "pl.Config.set_tbl_cols(n=-1)\n",
    "\n",
    "\n",
    "# Hockey Specific\n",
    "import sportsdataverse as sdv\n",
    "\n",
    "# Hit API\n",
    "import requests"
   ]
  },
  {
   "cell_type": "markdown",
   "metadata": {},
   "source": [
    "# Load Expected Goals Data"
   ]
  },
  {
   "cell_type": "code",
   "execution_count": 30,
   "metadata": {},
   "outputs": [],
   "source": [
    "model_path = \"FinalExpectedGoalsPredictions.parquet\"\n",
    "PBP_xG = pl.read_parquet(model_path)"
   ]
  },
  {
   "cell_type": "markdown",
   "metadata": {},
   "source": [
    "# Create Standings Table"
   ]
  },
  {
   "cell_type": "code",
   "execution_count": 31,
   "metadata": {},
   "outputs": [
    {
     "data": {
      "text/html": [
       "<div><style>\n",
       ".dataframe > thead > tr > th,\n",
       ".dataframe > tbody > tr > td {\n",
       "  text-align: right;\n",
       "}\n",
       "</style>\n",
       "<small>shape: (5, 13)</small><table border=\"1\" class=\"dataframe\"><thead><tr><th>team</th><th>xGoals_For</th><th>Goals_For</th><th>O_Diff_Over_Under</th><th>xGoals_Against</th><th>Goals_Against</th><th>D_Diff_Over_Under</th><th>xG_Difference</th><th>G_Difference</th><th>Diff_Over_Under</th><th>xGWin_Pct</th><th>GWin_Pct</th><th>Weighted_Win_Pct</th></tr><tr><td>str</td><td>f32</td><td>i32</td><td>f64</td><td>f32</td><td>i32</td><td>f64</td><td>f32</td><td>i32</td><td>f64</td><td>f32</td><td>f64</td><td>f64</td></tr></thead><tbody><tr><td>&quot;VAN&quot;</td><td>35.697395</td><td>52</td><td>16.302605</td><td>38.260727</td><td>23</td><td>-15.260727</td><td>-2.563332</td><td>29</td><td>31.563332</td><td>0.467799</td><td>0.82014</td><td>0.660894</td></tr><tr><td>&quot;LAK&quot;</td><td>36.181</td><td>44</td><td>7.819</td><td>27.379593</td><td>30</td><td>2.620407</td><td>8.801407</td><td>14</td><td>5.198593</td><td>0.626785</td><td>0.670924</td><td>0.650753</td></tr><tr><td>&quot;PIT&quot;</td><td>40.25325</td><td>35</td><td>-5.25325</td><td>27.973797</td><td>29</td><td>1.026203</td><td>12.279453</td><td>6</td><td>-6.279453</td><td>0.663046</td><td>0.586564</td><td>0.626581</td></tr><tr><td>&quot;NSH&quot;</td><td>39.331017</td><td>31</td><td>-8.331017</td><td>28.797981</td><td>28</td><td>-0.797981</td><td>10.533035</td><td>3</td><td>-7.533035</td><td>0.641016</td><td>0.547188</td><td>0.598088</td></tr><tr><td>&quot;VGK&quot;</td><td>35.357235</td><td>44</td><td>8.642765</td><td>37.139286</td><td>27</td><td>-10.139286</td><td>-1.782051</td><td>17</td><td>18.782051</td><td>0.477151</td><td>0.71266</td><td>0.597726</td></tr></tbody></table></div>"
      ],
      "text/plain": [
       "shape: (5, 13)\n",
       "┌─────┬─────┬─────┬────────┬───────┬───────┬───────┬───────┬───────┬───────┬───────┬───────┬───────┐\n",
       "│ tea ┆ xGo ┆ Goa ┆ O_Diff ┆ xGoal ┆ Goals ┆ D_Dif ┆ xG_Di ┆ G_Dif ┆ Diff_ ┆ xGWin ┆ GWin_ ┆ Weigh │\n",
       "│ m   ┆ als ┆ ls_ ┆ _Over_ ┆ s_Aga ┆ _Agai ┆ f_Ove ┆ ffere ┆ feren ┆ Over_ ┆ _Pct  ┆ Pct   ┆ ted_W │\n",
       "│ --- ┆ _Fo ┆ For ┆ Under  ┆ inst  ┆ nst   ┆ r_Und ┆ nce   ┆ ce    ┆ Under ┆ ---   ┆ ---   ┆ in_Pc │\n",
       "│ str ┆ r   ┆ --- ┆ ---    ┆ ---   ┆ ---   ┆ er    ┆ ---   ┆ ---   ┆ ---   ┆ f32   ┆ f64   ┆ t     │\n",
       "│     ┆ --- ┆ i32 ┆ f64    ┆ f32   ┆ i32   ┆ ---   ┆ f32   ┆ i32   ┆ f64   ┆       ┆       ┆ ---   │\n",
       "│     ┆ f32 ┆     ┆        ┆       ┆       ┆ f64   ┆       ┆       ┆       ┆       ┆       ┆ f64   │\n",
       "╞═════╪═════╪═════╪════════╪═══════╪═══════╪═══════╪═══════╪═══════╪═══════╪═══════╪═══════╪═══════╡\n",
       "│ VAN ┆ 35. ┆ 52  ┆ 16.302 ┆ 38.26 ┆ 23    ┆ -15.2 ┆ -2.56 ┆ 29    ┆ 31.56 ┆ 0.467 ┆ 0.820 ┆ 0.660 │\n",
       "│     ┆ 697 ┆     ┆ 605    ┆ 0727  ┆       ┆ 60727 ┆ 3332  ┆       ┆ 3332  ┆ 799   ┆ 14    ┆ 894   │\n",
       "│     ┆ 395 ┆     ┆        ┆       ┆       ┆       ┆       ┆       ┆       ┆       ┆       ┆       │\n",
       "│ LAK ┆ 36. ┆ 44  ┆ 7.819  ┆ 27.37 ┆ 30    ┆ 2.620 ┆ 8.801 ┆ 14    ┆ 5.198 ┆ 0.626 ┆ 0.670 ┆ 0.650 │\n",
       "│     ┆ 181 ┆     ┆        ┆ 9593  ┆       ┆ 407   ┆ 407   ┆       ┆ 593   ┆ 785   ┆ 924   ┆ 753   │\n",
       "│ PIT ┆ 40. ┆ 35  ┆ -5.253 ┆ 27.97 ┆ 29    ┆ 1.026 ┆ 12.27 ┆ 6     ┆ -6.27 ┆ 0.663 ┆ 0.586 ┆ 0.626 │\n",
       "│     ┆ 253 ┆     ┆ 25     ┆ 3797  ┆       ┆ 203   ┆ 9453  ┆       ┆ 9453  ┆ 046   ┆ 564   ┆ 581   │\n",
       "│     ┆ 25  ┆     ┆        ┆       ┆       ┆       ┆       ┆       ┆       ┆       ┆       ┆       │\n",
       "│ NSH ┆ 39. ┆ 31  ┆ -8.331 ┆ 28.79 ┆ 28    ┆ -0.79 ┆ 10.53 ┆ 3     ┆ -7.53 ┆ 0.641 ┆ 0.547 ┆ 0.598 │\n",
       "│     ┆ 331 ┆     ┆ 017    ┆ 7981  ┆       ┆ 7981  ┆ 3035  ┆       ┆ 3035  ┆ 016   ┆ 188   ┆ 088   │\n",
       "│     ┆ 017 ┆     ┆        ┆       ┆       ┆       ┆       ┆       ┆       ┆       ┆       ┆       │\n",
       "│ VGK ┆ 35. ┆ 44  ┆ 8.6427 ┆ 37.13 ┆ 27    ┆ -10.1 ┆ -1.78 ┆ 17    ┆ 18.78 ┆ 0.477 ┆ 0.712 ┆ 0.597 │\n",
       "│     ┆ 357 ┆     ┆ 65     ┆ 9286  ┆       ┆ 39286 ┆ 2051  ┆       ┆ 2051  ┆ 151   ┆ 66    ┆ 726   │\n",
       "│     ┆ 235 ┆     ┆        ┆       ┆       ┆       ┆       ┆       ┆       ┆       ┆       ┆       │\n",
       "└─────┴─────┴─────┴────────┴───────┴───────┴───────┴───────┴───────┴───────┴───────┴───────┴───────┘"
      ]
     },
     "execution_count": 31,
     "metadata": {},
     "output_type": "execute_result"
    }
   ],
   "source": [
    "pythag_exp = 1.86\n",
    "Def = (\n",
    "    PBP_xG\n",
    "    .with_columns((pl.when(pl.col('event_team_abbr') == pl.col('home_abbreviation'))\n",
    "                     .then(pl.col('away_abbreviation'))\n",
    "                     .otherwise(pl.col('home_abbreviation'))).alias('team'))\n",
    "     .filter(((pl.col('season')==2024)) & (pl.col('season_type') == 'R') & (pl.col('model_type') != 'EN'))\n",
    "     .groupby('team')\n",
    "     .agg([\n",
    "         (pl.col('xG').sum()).alias('xGoals_Against'),\n",
    "         ((pl.when(pl.col('event_type') == 'GOAL')\n",
    "             .then(pl.lit(1)).otherwise(pl.lit(0))).sum())\n",
    "             .alias('Goals_Against')\n",
    "          ])\n",
    "     .with_columns((pl.col('Goals_Against') - pl.col('xGoals_Against')).alias('D_Diff_Over_Under'))\n",
    "     .sort('xGoals_Against', descending = True)\n",
    ")\n",
    "\n",
    "Off = (\n",
    "    PBP_xG\n",
    "    .with_columns(pl.col('event_team_abbr').alias('team'))\n",
    "    .filter(((pl.col('season')==2024)) & (pl.col('season_type') == 'R') & (pl.col('model_type') != 'EN'))\n",
    "    .groupby('team')\n",
    "    .agg([(pl.col('xG').sum()).alias('xGoals_For'),\n",
    "          ((pl.when(pl.col('event_type') == 'GOAL')\n",
    "              .then(pl.lit(1))\n",
    "              .otherwise(pl.lit(0))).sum()).alias('Goals_For')\n",
    "          ])\n",
    "     .with_columns((pl.col('Goals_For') - pl.col('xGoals_For')).alias('O_Diff_Over_Under'))\n",
    "     .sort('xGoals_For', descending = True)\n",
    ")\n",
    "\n",
    "NHL_Stats = (\n",
    "    Off\n",
    "    .join(Def, on = 'team', how = \"inner\")\n",
    "    .with_columns([\n",
    "    (pl.col('xGoals_For') - pl.col('xGoals_Against')).alias('xG_Difference'),\n",
    "    (pl.col('Goals_For') - pl.col('Goals_Against')).alias('G_Difference')\n",
    "     ])\n",
    "     .with_columns(\n",
    "         (pl.col('G_Difference') - (pl.col('xG_Difference') )).alias('Diff_Over_Under'),\n",
    "         ((pl.col('xGoals_For').pow(pythag_exp)) / ((pl.col('xGoals_For').pow(pythag_exp)) + (pl.col('xGoals_Against').pow(pythag_exp)))).alias('xGWin_Pct'),\n",
    "         ((pl.col('Goals_For').pow(pythag_exp)) / ((pl.col('Goals_For').pow(pythag_exp)) + (pl.col('Goals_Against').pow(pythag_exp)))).alias('GWin_Pct'),\n",
    "         ((((pl.col('Goals_For') + pl.col('xGoals_For'))/2).pow(pythag_exp)) / ((((pl.col('Goals_For') + pl.col('xGoals_For'))/2).pow(pythag_exp)) + (((pl.col('Goals_Against') + pl.col('xGoals_Against'))/2).pow(pythag_exp)))).alias('Weighted_Win_Pct')\n",
    "         )\n",
    "     .sort('Weighted_Win_Pct', descending=True)\n",
    ")\n",
    "\n",
    "NHL_Stats.head(5) #.filter(pl.col('team').is_in(bet_teams))"
   ]
  },
  {
   "cell_type": "markdown",
   "metadata": {},
   "source": [
    "# Get Today's Games"
   ]
  },
  {
   "cell_type": "code",
   "execution_count": 32,
   "metadata": {},
   "outputs": [],
   "source": [
    "# Variables\n",
    "date_str = \"2023-11-17\"\n",
    "\n",
    "# Create Predictions\n",
    "sched_link = \"https://api-web.nhle.com/v1/schedule/\"+date_str\n",
    "response = requests.get(sched_link)\n",
    "\n",
    "# Parse the JSON content of the response\n",
    "raw_data = pd.json_normalize(response.json())\n",
    "sched_data = pd.json_normalize(raw_data['gameWeek'][0])\n",
    "\n",
    "# Get Odds\n",
    "odds_data = pd.json_normalize(raw_data['oddsPartners'][0])\n",
    "US_Prov_ID = int(odds_data[odds_data['country'] == 'US']['partnerId'].iloc[0])\n",
    "sched_data = pd.json_normalize(sched_data['games'][0])\n",
    "game_df = sched_data[['id', 'season', 'gameState', 'awayTeam.abbrev', 'homeTeam.abbrev', 'homeTeam.odds', 'awayTeam.odds', 'gameCenterLink']]"
   ]
  },
  {
   "cell_type": "code",
   "execution_count": 33,
   "metadata": {},
   "outputs": [
    {
     "name": "stdout",
     "output_type": "stream",
     "text": [
      "TOR (-180) @ DET (165) Has Already Started\n"
     ]
    }
   ],
   "source": [
    "game_dfs = []\n",
    "idx = 0\n",
    "\n",
    "## Existing Game Odds\n",
    "exist_id = [2023020251]\n",
    "exist_home_odds = [ 165]\n",
    "exist_away_odds = [-180]\n",
    "\n",
    "exist_df = pd.DataFrame({\n",
    "    'id': exist_id,\n",
    "    'home_odds': exist_home_odds,\n",
    "    'away_odds': exist_away_odds\n",
    "})\n",
    "\n",
    "\n",
    "for i in game_df['id']:\n",
    "\n",
    "    raw_df = game_df[game_df['id'] == i]\n",
    "\n",
    "    try:\n",
    "        # Load Game Data\n",
    "        home_odds_df = pd.json_normalize(raw_df['homeTeam.odds'][idx])\n",
    "        away_odds_df = pd.json_normalize(raw_df['awayTeam.odds'][idx])\n",
    "\n",
    "        home_odd = home_odds_df[home_odds_df['providerId'] == US_Prov_ID]['value'].iloc[0]\n",
    "        away_odd = away_odds_df[away_odds_df['providerId'] == US_Prov_ID]['value'].iloc[0]\n",
    "\n",
    "        df = raw_df[['id', 'season', 'awayTeam.abbrev', 'homeTeam.abbrev', 'gameState']]\n",
    "        df = df.assign(home_odds=home_odd, away_odds=away_odd, game_date=date_str)\n",
    "\n",
    "        game_dfs.append(df)\n",
    "\n",
    "    except Exception as e:\n",
    "\n",
    "        # Load Game Data\n",
    "        df = raw_df[raw_df['id'] == i]\n",
    "\n",
    "        home_odd = exist_df[exist_df['id'] == i]['home_odds'].iloc[0]\n",
    "        away_odd = exist_df[exist_df['id'] == i]['away_odds'].iloc[0]\n",
    "\n",
    "        df = raw_df[['id', 'season', 'awayTeam.abbrev', 'homeTeam.abbrev','gameState']]\n",
    "        df = df.assign(home_odds=home_odd, away_odds=away_odd, game_date=date_str).astype({'home_odds': 'float64', 'away_odds': 'float64'})\n",
    "\n",
    "        gme_lab = str(df['awayTeam.abbrev'].iloc[0])+ ' ('+ str(round(away_odd, 0)) + ') @ '+str(df['homeTeam.abbrev'].iloc[0]+ ' ('+ str(round(home_odd, 0)) + ')')\n",
    "\n",
    "        print(f\"{gme_lab} Has Already Started\")\n",
    "\n",
    "        game_dfs.append(df)\n",
    "\n",
    "    # Move To Next Game\n",
    "    idx += 1\n",
    "\n",
    "# Concatenate all DataFrames in the game_dfs list into a single polarsDataFrame\n",
    "result_df = pd.concat(game_dfs, ignore_index=True).astype({'home_odds': 'float64', 'away_odds': 'float64'})\n",
    "result_df = pl.DataFrame(result_df)"
   ]
  },
  {
   "cell_type": "code",
   "execution_count": 34,
   "metadata": {},
   "outputs": [
    {
     "name": "stdout",
     "output_type": "stream",
     "text": [
      "+------------+------------+-----------+-----------+--------------+-------------+-----------+-----------+--------------+-------------+----------+-----------+\n",
      "| Date       | Game ID    | Away Team | Away Odds | Away ImpProb | Away ExpWin | Home Team | Home Odds | Home ImpProb | Home ExpWin | Bet Team | Advantage |\n",
      "+==========================================================================================================================================================+\n",
      "| 2023-11-17 | 2023020251 | TOR       | -180.0    | 64.29%       | 47.79%      | DET       | 165.0     | 37.74%       | 52.21%      | DET      | 14.47%    |\n",
      "|------------+------------+-----------+-----------+--------------+-------------+-----------+-----------+--------------+-------------+----------+-----------|\n",
      "| 2023-11-17 | 2023020253 | FLA       | -175.0    | 63.64%       | 53.95%      | ANA       | 145.0     | 40.82%       | 46.05%      | ANA      | 5.23%     |\n",
      "|------------+------------+-----------+-----------+--------------+-------------+-----------+-----------+--------------+-------------+----------+-----------|\n",
      "| 2023-11-17 | 2023020252 | BUF       | 154.0     | 39.37%       | 40.95%      | WPG       | -185.0    | 64.91%       | 59.05%      | BUF      | 1.58%     |\n",
      "+------------+------------+-----------+-----------+--------------+-------------+-----------+-----------+--------------+-------------+----------+-----------+\n"
     ]
    }
   ],
   "source": [
    "Bet_DF = (\n",
    "    result_df\n",
    "    .join(NHL_Stats.select([(pl.col(col).alias(f'away_{col}')) for col in NHL_Stats.columns]), left_on=['awayTeam.abbrev'], right_on=['away_team'])\n",
    "    .join(NHL_Stats.select([(pl.col(col).alias(f'home_{col}')) for col in NHL_Stats.columns]), left_on=['homeTeam.abbrev'], right_on=['home_team'])\n",
    "    .with_columns([\n",
    "        ((pl.col('home_Weighted_Win_Pct')) * (1 - pl.col('away_Weighted_Win_Pct'))).alias('home_win'),\n",
    "        ((pl.col('away_Weighted_Win_Pct')) * (1 - pl.col('home_Weighted_Win_Pct'))).alias('away_win'),\n",
    "        (pl.when(pl.col('home_odds') < 0).then((-1*(pl.col('home_odds'))) / ((-1*(pl.col('home_odds')) + 100))).otherwise(100 / (pl.col('home_odds') + 100))).alias('home_imp_prob'),\n",
    "        (pl.when(pl.col('away_odds') < 0).then((-1*(pl.col('away_odds'))) / ((-1*(pl.col('away_odds')) + 100))).otherwise(100 / (pl.col('away_odds') + 100))).alias('away_imp_prob')\n",
    "    ])\n",
    "    .with_columns([\n",
    "        ((pl.col('home_win')) / (pl.col('home_win') + pl.col('away_win'))).alias('home_win'),\n",
    "        ((pl.col('away_win')) / (pl.col('home_win') + pl.col('away_win'))).alias('away_win')\n",
    "        \n",
    "    ])\n",
    "    .with_columns([\n",
    "        (pl.col('home_win') - pl.col('home_imp_prob')).alias('home_xAdvantage'),\n",
    "        (pl.col('away_win') - pl.col('away_imp_prob')).alias('away_xAdvantage')\n",
    "    ])\n",
    "    .with_columns([\n",
    "        (pl.when(pl.col('home_xAdvantage') > pl.col('away_xAdvantage')).then(pl.col('home_xAdvantage')).otherwise(pl.col('away_xAdvantage'))).alias('Advantage'),\n",
    "        (pl.when(pl.col('home_xAdvantage') > pl.col('away_xAdvantage')).then(pl.col('homeTeam.abbrev')).otherwise(pl.col('awayTeam.abbrev'))).alias('Bet_Team')\n",
    "    ])\n",
    "    .rename({\"awayTeam.abbrev\":\"away_team\", \"homeTeam.abbrev\":\"home_team\"})\n",
    "    .select('id', \"game_date\", 'away_team', 'away_odds', 'away_imp_prob', 'away_win', 'home_team','home_odds', 'home_imp_prob', 'home_win', 'Bet_Team', 'Advantage')\n",
    ")\n",
    "\n",
    "Pretty_Bet_DF = (\n",
    "    Bet_DF\n",
    "    .select([\n",
    "        pl.col(\"game_date\").alias('Date'),\n",
    "        pl.col(\"id\").alias(\"Game ID\"),\n",
    "        pl.col(\"away_team\").alias('Away Team'),\n",
    "        pl.col('away_odds').round(0).alias('Away Odds'),\n",
    "        pl.format(\"{}%\", (pl.col('away_imp_prob')*100).round(2)).alias('Away ImpProb'),\n",
    "        pl.format(\"{}%\", (pl.col('away_win')*100).round(2)).alias('Away ExpWin'),\n",
    "        pl.col(\"home_team\").alias('Home Team'),\n",
    "        pl.col('home_odds').round(0).alias('Home Odds'),\n",
    "        pl.format(\"{}%\", (pl.col('home_imp_prob')*100).round(2)).alias('Home ImpProb'),\n",
    "        pl.format(\"{}%\", (pl.col('home_win')*100).round(2)).alias('Home ExpWin'),\n",
    "        pl.col(\"Bet_Team\").alias(\"Bet Team\"),\n",
    "        pl.col(\"Advantage\").alias('AdvNum'),\n",
    "    ])\n",
    "    .with_columns(pl.format(\"{}%\", (pl.col('AdvNum')*100).round(2)).alias('Advantage'))\n",
    "    .sort(\"AdvNum\", descending=True)\n",
    "    .drop('AdvNum')\n",
    ")\n",
    "\n",
    "\n",
    "with pl.Config(tbl_formatting=\"ASCII_FULL\", tbl_hide_column_data_types=True, tbl_hide_dataframe_shape=True) as cfg:\n",
    "    cfg.set_tbl_width_chars(200)\n",
    "    print(Pretty_Bet_DF)"
   ]
  }
 ],
 "metadata": {
  "kernelspec": {
   "display_name": ".venv",
   "language": "python",
   "name": "python3"
  },
  "language_info": {
   "codemirror_mode": {
    "name": "ipython",
    "version": 3
   },
   "file_extension": ".py",
   "mimetype": "text/x-python",
   "name": "python",
   "nbconvert_exporter": "python",
   "pygments_lexer": "ipython3",
   "version": "3.11.3"
  }
 },
 "nbformat": 4,
 "nbformat_minor": 2
}
